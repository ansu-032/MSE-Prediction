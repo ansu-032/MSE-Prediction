{
 "cells": [
  {
   "cell_type": "code",
   "execution_count": 1,
   "id": "3bfda4ad-d111-46da-b4cf-00b3eb39efbc",
   "metadata": {},
   "outputs": [],
   "source": [
    "import pandas as pd\n",
    "import matplotlib.pyplot as plt\n",
    "import seaborn as sns"
   ]
  },
  {
   "cell_type": "code",
   "execution_count": 2,
   "id": "6e6b9b24-2913-4100-a84f-4f4524be5324",
   "metadata": {},
   "outputs": [
    {
     "data": {
      "text/html": [
       "<div>\n",
       "<style scoped>\n",
       "    .dataframe tbody tr th:only-of-type {\n",
       "        vertical-align: middle;\n",
       "    }\n",
       "\n",
       "    .dataframe tbody tr th {\n",
       "        vertical-align: top;\n",
       "    }\n",
       "\n",
       "    .dataframe thead th {\n",
       "        text-align: right;\n",
       "    }\n",
       "</style>\n",
       "<table border=\"1\" class=\"dataframe\">\n",
       "  <thead>\n",
       "    <tr style=\"text-align: right;\">\n",
       "      <th></th>\n",
       "      <th>Country</th>\n",
       "      <th>Balance</th>\n",
       "      <th>Product</th>\n",
       "      <th>Value</th>\n",
       "      <th>Unit</th>\n",
       "      <th>Month</th>\n",
       "      <th>Date</th>\n",
       "    </tr>\n",
       "  </thead>\n",
       "  <tbody>\n",
       "    <tr>\n",
       "      <th>0</th>\n",
       "      <td>Australia</td>\n",
       "      <td>Net Electricity Production</td>\n",
       "      <td>Electricity</td>\n",
       "      <td>23130.2764</td>\n",
       "      <td>GWh</td>\n",
       "      <td>Mar</td>\n",
       "      <td>24</td>\n",
       "    </tr>\n",
       "    <tr>\n",
       "      <th>1</th>\n",
       "      <td>Australia</td>\n",
       "      <td>Net Electricity Production</td>\n",
       "      <td>Total Combustible Fuels</td>\n",
       "      <td>14353.8714</td>\n",
       "      <td>GWh</td>\n",
       "      <td>Mar</td>\n",
       "      <td>24</td>\n",
       "    </tr>\n",
       "    <tr>\n",
       "      <th>2</th>\n",
       "      <td>Australia</td>\n",
       "      <td>Net Electricity Production</td>\n",
       "      <td>Coal, Peat and Manufactured Gases</td>\n",
       "      <td>10304.7825</td>\n",
       "      <td>GWh</td>\n",
       "      <td>Mar</td>\n",
       "      <td>24</td>\n",
       "    </tr>\n",
       "    <tr>\n",
       "      <th>3</th>\n",
       "      <td>Australia</td>\n",
       "      <td>Net Electricity Production</td>\n",
       "      <td>Oil and Petroleum Products</td>\n",
       "      <td>330.5351</td>\n",
       "      <td>GWh</td>\n",
       "      <td>Mar</td>\n",
       "      <td>24</td>\n",
       "    </tr>\n",
       "    <tr>\n",
       "      <th>4</th>\n",
       "      <td>Australia</td>\n",
       "      <td>Net Electricity Production</td>\n",
       "      <td>Natural Gas</td>\n",
       "      <td>3492.4621</td>\n",
       "      <td>GWh</td>\n",
       "      <td>Mar</td>\n",
       "      <td>24</td>\n",
       "    </tr>\n",
       "  </tbody>\n",
       "</table>\n",
       "</div>"
      ],
      "text/plain": [
       "     Country                     Balance                            Product  \\\n",
       "0  Australia  Net Electricity Production                        Electricity   \n",
       "1  Australia  Net Electricity Production            Total Combustible Fuels   \n",
       "2  Australia  Net Electricity Production  Coal, Peat and Manufactured Gases   \n",
       "3  Australia  Net Electricity Production         Oil and Petroleum Products   \n",
       "4  Australia  Net Electricity Production                        Natural Gas   \n",
       "\n",
       "        Value Unit Month  Date  \n",
       "0  23130.2764  GWh   Mar    24  \n",
       "1  14353.8714  GWh   Mar    24  \n",
       "2  10304.7825  GWh   Mar    24  \n",
       "3    330.5351  GWh   Mar    24  \n",
       "4   3492.4621  GWh   Mar    24  "
      ]
     },
     "execution_count": 2,
     "metadata": {},
     "output_type": "execute_result"
    }
   ],
   "source": [
    "df=pd.read_csv(\"Cleaned1.csv\")\n",
    "df.head()"
   ]
  },
  {
   "cell_type": "code",
   "execution_count": 3,
   "id": "9bb33939-3783-49ff-9995-b4195a0fdc88",
   "metadata": {},
   "outputs": [],
   "source": [
    "# split dataframe...\n",
    "df1 = df[df['Balance'] == 'Net Electricity Production']"
   ]
  },
  {
   "cell_type": "code",
   "execution_count": 4,
   "id": "aa109dd5-1c03-43fe-b3e1-8c5000d269cc",
   "metadata": {},
   "outputs": [],
   "source": [
    "df2 = df[df['Balance'] != 'Net Electricity Production']"
   ]
  },
  {
   "cell_type": "code",
   "execution_count": 5,
   "id": "584ef5af-3382-4965-b25b-b08e2b84db0e",
   "metadata": {},
   "outputs": [],
   "source": [
    "dff1 = df1 # Copying dataframe which having 'Balance' == 'Net Electricity Production'\n",
    "dff2 = df2 # Copying dataframe which having 'Balance' != 'Net Electricity Production'\n",
    "\n",
    "# For self security  (-;"
   ]
  },
  {
   "cell_type": "code",
   "execution_count": 6,
   "id": "1cb45d1b-a213-4011-b343-f92c2076837d",
   "metadata": {},
   "outputs": [],
   "source": [
    "from sklearn.preprocessing import LabelEncoder\n",
    "import pandas as pd\n",
    "import joblib\n",
    "from sklearn.model_selection import train_test_split\n",
    "from sklearn.preprocessing import StandardScaler\n",
    "from sklearn.ensemble import RandomForestRegressor"
   ]
  },
  {
   "cell_type": "code",
   "execution_count": 7,
   "id": "9bd8c739-6b99-413c-9227-bfb099143eb2",
   "metadata": {},
   "outputs": [],
   "source": [
    "combined_countries = pd.concat([dff1['Country'], dff2['Country']]).unique()\n",
    "combined_balances = pd.concat([dff1['Balance'], dff2['Balance']]).unique()\n",
    "combined_products = pd.concat([dff1['Product'], dff2['Product']]).unique()\n",
    "combined_months = pd.concat([dff1['Month'], dff2['Month']]).unique()"
   ]
  },
  {
   "cell_type": "code",
   "execution_count": 8,
   "id": "288c777f-be4e-48b5-b46c-cb00939c2e86",
   "metadata": {},
   "outputs": [],
   "source": [
    "country_encoder = LabelEncoder().fit(combined_countries)\n",
    "balance_encoder = LabelEncoder().fit(combined_balances)\n",
    "product_encoder = LabelEncoder().fit(combined_products)\n",
    "month_encoder = LabelEncoder().fit(combined_months)"
   ]
  },
  {
   "cell_type": "code",
   "execution_count": 9,
   "id": "807d5e96-76cc-4738-8a12-c110d3258635",
   "metadata": {},
   "outputs": [],
   "source": [
    "dff1 = dff1.drop(['Unit'], axis=1)\n",
    "dff1['Country'] = country_encoder.transform(dff1['Country'])\n",
    "dff1['Balance'] = balance_encoder.transform(dff1['Balance'])\n",
    "dff1['Product'] = product_encoder.transform(dff1['Product'])\n",
    "dff1['Month'] = month_encoder.transform(dff1['Month'])\n"
   ]
  },
  {
   "cell_type": "code",
   "execution_count": 10,
   "id": "cdda6331-eca7-42a8-afc3-f576b9c432e9",
   "metadata": {},
   "outputs": [],
   "source": [
    "# Transform dff2\n",
    "dff2 = dff2.drop(['Unit'], axis=1)\n",
    "dff2['Country'] = country_encoder.transform(dff2['Country'])\n",
    "dff2['Balance'] = balance_encoder.transform(dff2['Balance'])\n",
    "dff2['Product'] = product_encoder.transform(dff2['Product'])\n",
    "dff2['Month'] = month_encoder.transform(dff2['Month'])"
   ]
  },
  {
   "cell_type": "code",
   "execution_count": 11,
   "id": "b76a726e-0715-4305-b6fe-bdc3d22b5ed7",
   "metadata": {},
   "outputs": [
    {
     "data": {
      "text/plain": [
       "['month_encoder2.pkl']"
      ]
     },
     "execution_count": 11,
     "metadata": {},
     "output_type": "execute_result"
    }
   ],
   "source": [
    "# Save the encoders for future use\n",
    "joblib.dump(country_encoder, 'country_encoder2.pkl')\n",
    "joblib.dump(balance_encoder, 'balance_encoder2.pkl')\n",
    "joblib.dump(product_encoder, 'product_encoder2.pkl')\n",
    "joblib.dump(month_encoder, 'month_encoder2.pkl')"
   ]
  },
  {
   "cell_type": "code",
   "execution_count": 14,
   "id": "a8f77ef6-ae8d-4d29-a846-125faa68b823",
   "metadata": {},
   "outputs": [
    {
     "data": {
      "text/plain": [
       "['model_3.pkl']"
      ]
     },
     "execution_count": 14,
     "metadata": {},
     "output_type": "execute_result"
    }
   ],
   "source": [
    "# Model training for df1\n",
    "x = dff1.drop(columns=['Value'], axis=1)\n",
    "y = dff1['Value']\n",
    "x_train, x_test, y_train, y_test = train_test_split(x, y, test_size=0.3, random_state=3)\n",
    "\n",
    "# Standard Scaler Transform\n",
    "sc = StandardScaler()\n",
    "x_train = sc.fit_transform(x_train)\n",
    "x_test = sc.transform(x_test)\n",
    "\n",
    "model1 = RandomForestRegressor(n_estimators=100)\n",
    "model1.fit(x_train, y_train)\n",
    "joblib.dump(model1, 'model_3.pkl')"
   ]
  },
  {
   "cell_type": "code",
   "execution_count": 15,
   "id": "a27dce01-9132-4aa6-8feb-a69b499607f9",
   "metadata": {},
   "outputs": [
    {
     "data": {
      "text/plain": [
       "['model_4.pkl']"
      ]
     },
     "execution_count": 15,
     "metadata": {},
     "output_type": "execute_result"
    }
   ],
   "source": [
    "# Model training for df2\n",
    "p = dff2.drop(columns=['Value'], axis=1)\n",
    "q = dff2['Value']\n",
    "p_train, p_test, q_train, q_test = train_test_split(p, q, test_size=0.3, random_state=3)\n",
    "\n",
    "# Standard Scaler Transform\n",
    "p_train = sc.fit_transform(p_train)\n",
    "p_test = sc.transform(p_test)\n",
    "\n",
    "model2 = RandomForestRegressor(n_estimators=100)\n",
    "model2.fit(p_train, q_train)\n",
    "joblib.dump(model2, 'model_4.pkl')"
   ]
  },
  {
   "cell_type": "code",
   "execution_count": 18,
   "id": "280b6a3c-34ac-4092-9acf-826e96bd5a3c",
   "metadata": {},
   "outputs": [
    {
     "name": "stdout",
     "output_type": "stream",
     "text": [
      "The predicted price is: 2725.738648\n"
     ]
    }
   ],
   "source": [
    "# Prediction Example\n",
    "# Example input\n",
    "input_data = [['Austria', 'Total Exports', 'Natural Gas', 'Mar', 24]]\n",
    "\n",
    "# Load the encoders\n",
    "country_encoder = joblib.load('country_encoder2.pkl')\n",
    "balance_encoder = joblib.load('balance_encoder2.pkl')\n",
    "product_encoder = joblib.load('product_encoder2.pkl')\n",
    "month_encoder = joblib.load('month_encoder2.pkl')\n",
    "\n",
    "# Create a DataFrame for the input data\n",
    "input_df = pd.DataFrame(input_data, columns=['Country', 'Balance', 'Product', 'Month', 'Data'])\n",
    "\n",
    "# Encode the input data\n",
    "input_df['Country'] = country_encoder.transform(input_df['Country'])\n",
    "input_df['Balance'] = balance_encoder.transform(input_df['Balance'])\n",
    "input_df['Product'] = product_encoder.transform(input_df['Product'])\n",
    "input_df['Month'] = month_encoder.transform(input_df['Month'])\n",
    "\n",
    "# Extract the features\n",
    "input_features = input_df[['Country', 'Balance', 'Product', 'Month', 'Data']].values\n",
    "\n",
    "# Load the trained model\n",
    "model = joblib.load('model_4.pkl')  # Use model_2.pkl if appropriate\n",
    "\n",
    "# Make a prediction\n",
    "predicted_price = model.predict(input_features)\n",
    "print(f\"The predicted price is: {predicted_price[0]}\")"
   ]
  },
  {
   "cell_type": "code",
   "execution_count": 20,
   "id": "9f070820-10c3-47c6-8ae6-c496c151fdd2",
   "metadata": {},
   "outputs": [
    {
     "name": "stdout",
     "output_type": "stream",
     "text": [
      "The predicted price is: 28792.899015000006\n"
     ]
    }
   ],
   "source": [
    "input_data = [['Austria', 'Net Electricity Production', 'Natural Gas', 'Mar', 24]]\n",
    "\n",
    "# Load the encoders\n",
    "country_encoder = joblib.load('country_encoder2.pkl')\n",
    "balance_encoder = joblib.load('balance_encoder2.pkl')\n",
    "product_encoder = joblib.load('product_encoder2.pkl')\n",
    "month_encoder = joblib.load('month_encoder2.pkl')\n",
    "\n",
    "# Create a DataFrame for the input data\n",
    "input_df = pd.DataFrame(input_data, columns=['Country', 'Balance', 'Product', 'Month', 'Data'])\n",
    "\n",
    "# Encode the input data\n",
    "input_df['Country'] = country_encoder.transform(input_df['Country'])\n",
    "input_df['Balance'] = balance_encoder.transform(input_df['Balance'])\n",
    "input_df['Product'] = product_encoder.transform(input_df['Product'])\n",
    "input_df['Month'] = month_encoder.transform(input_df['Month'])\n",
    "\n",
    "# Extract the features\n",
    "input_features = input_df[['Country', 'Balance', 'Product', 'Month', 'Data']].values\n",
    "\n",
    "# Load the trained model\n",
    "model = joblib.load('model_3.pkl')  # Use model_2.pkl if appropriate\n",
    "\n",
    "# Make a prediction\n",
    "predicted_price = model.predict(input_features)\n",
    "print(f\"The predicted price is: {predicted_price[0]}\")"
   ]
  },
  {
   "cell_type": "code",
   "execution_count": null,
   "id": "b103e604-f3d2-4e49-a88b-6f7f73de3ef7",
   "metadata": {},
   "outputs": [],
   "source": []
  }
 ],
 "metadata": {
  "kernelspec": {
   "display_name": "Python 3 (ipykernel)",
   "language": "python",
   "name": "python3"
  },
  "language_info": {
   "codemirror_mode": {
    "name": "ipython",
    "version": 3
   },
   "file_extension": ".py",
   "mimetype": "text/x-python",
   "name": "python",
   "nbconvert_exporter": "python",
   "pygments_lexer": "ipython3",
   "version": "3.11.4"
  }
 },
 "nbformat": 4,
 "nbformat_minor": 5
}
