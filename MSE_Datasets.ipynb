{
 "cells": [
  {
   "cell_type": "markdown",
   "id": "e0d48dde-083e-4afa-aa4d-36b4c748c61c",
   "metadata": {},
   "source": [
    "### Importing Libraries"
   ]
  },
  {
   "cell_type": "code",
   "execution_count": 1,
   "id": "afc310b1-842a-4023-974e-da6040b5e45b",
   "metadata": {},
   "outputs": [],
   "source": [
    "import pandas as pd\n",
    "import matplotlib.pyplot as plt\n",
    "import seaborn as sns"
   ]
  },
  {
   "cell_type": "markdown",
   "id": "70c2a848-f5d4-4ace-ad58-7de564b0f787",
   "metadata": {},
   "source": [
    "### Reding Datasets"
   ]
  },
  {
   "cell_type": "code",
   "execution_count": 2,
   "id": "4f9343f2-69ec-446d-b3f0-73a57c3eb528",
   "metadata": {
    "scrolled": true
   },
   "outputs": [
    {
     "data": {
      "text/html": [
       "<div>\n",
       "<style scoped>\n",
       "    .dataframe tbody tr th:only-of-type {\n",
       "        vertical-align: middle;\n",
       "    }\n",
       "\n",
       "    .dataframe tbody tr th {\n",
       "        vertical-align: top;\n",
       "    }\n",
       "\n",
       "    .dataframe thead th {\n",
       "        text-align: right;\n",
       "    }\n",
       "</style>\n",
       "<table border=\"1\" class=\"dataframe\">\n",
       "  <thead>\n",
       "    <tr style=\"text-align: right;\">\n",
       "      <th></th>\n",
       "      <th>Country</th>\n",
       "      <th>Time</th>\n",
       "      <th>Balance</th>\n",
       "      <th>Product</th>\n",
       "      <th>Value</th>\n",
       "      <th>Unit</th>\n",
       "    </tr>\n",
       "  </thead>\n",
       "  <tbody>\n",
       "    <tr>\n",
       "      <th>0</th>\n",
       "      <td>Australia</td>\n",
       "      <td>Mar-24</td>\n",
       "      <td>Net Electricity Production</td>\n",
       "      <td>Electricity</td>\n",
       "      <td>23130.2764</td>\n",
       "      <td>GWh</td>\n",
       "    </tr>\n",
       "    <tr>\n",
       "      <th>1</th>\n",
       "      <td>Australia</td>\n",
       "      <td>Mar-24</td>\n",
       "      <td>Net Electricity Production</td>\n",
       "      <td>Total Combustible Fuels</td>\n",
       "      <td>14353.8714</td>\n",
       "      <td>GWh</td>\n",
       "    </tr>\n",
       "    <tr>\n",
       "      <th>2</th>\n",
       "      <td>Australia</td>\n",
       "      <td>Mar-24</td>\n",
       "      <td>Net Electricity Production</td>\n",
       "      <td>Coal, Peat and Manufactured Gases</td>\n",
       "      <td>10304.7825</td>\n",
       "      <td>GWh</td>\n",
       "    </tr>\n",
       "    <tr>\n",
       "      <th>3</th>\n",
       "      <td>Australia</td>\n",
       "      <td>Mar-24</td>\n",
       "      <td>Net Electricity Production</td>\n",
       "      <td>Oil and Petroleum Products</td>\n",
       "      <td>330.5351</td>\n",
       "      <td>GWh</td>\n",
       "    </tr>\n",
       "    <tr>\n",
       "      <th>4</th>\n",
       "      <td>Australia</td>\n",
       "      <td>Mar-24</td>\n",
       "      <td>Net Electricity Production</td>\n",
       "      <td>Natural Gas</td>\n",
       "      <td>3492.4621</td>\n",
       "      <td>GWh</td>\n",
       "    </tr>\n",
       "  </tbody>\n",
       "</table>\n",
       "</div>"
      ],
      "text/plain": [
       "     Country    Time                     Balance  \\\n",
       "0  Australia  Mar-24  Net Electricity Production   \n",
       "1  Australia  Mar-24  Net Electricity Production   \n",
       "2  Australia  Mar-24  Net Electricity Production   \n",
       "3  Australia  Mar-24  Net Electricity Production   \n",
       "4  Australia  Mar-24  Net Electricity Production   \n",
       "\n",
       "                             Product       Value Unit  \n",
       "0                        Electricity  23130.2764  GWh  \n",
       "1            Total Combustible Fuels  14353.8714  GWh  \n",
       "2  Coal, Peat and Manufactured Gases  10304.7825  GWh  \n",
       "3         Oil and Petroleum Products    330.5351  GWh  \n",
       "4                        Natural Gas   3492.4621  GWh  "
      ]
     },
     "execution_count": 2,
     "metadata": {},
     "output_type": "execute_result"
    }
   ],
   "source": [
    "df=pd.read_csv(\"MES_0324.csv\")\n",
    "df.head()"
   ]
  },
  {
   "cell_type": "code",
   "execution_count": 3,
   "id": "1d9de6d4-c78e-44fb-b144-534073a6a625",
   "metadata": {
    "scrolled": true
   },
   "outputs": [
    {
     "data": {
      "text/plain": [
       "(140988, 6)"
      ]
     },
     "execution_count": 3,
     "metadata": {},
     "output_type": "execute_result"
    }
   ],
   "source": [
    "df.shape"
   ]
  },
  {
   "cell_type": "markdown",
   "id": "b33c6859-77ce-4409-b261-49e970dc2dd6",
   "metadata": {},
   "source": [
    "### Data Cleaning"
   ]
  },
  {
   "cell_type": "code",
   "execution_count": 4,
   "id": "0cd1a865-6d47-4328-9eca-db6ce51951b9",
   "metadata": {},
   "outputs": [
    {
     "data": {
      "text/plain": [
       "Country     0\n",
       "Time        0\n",
       "Balance     0\n",
       "Product     0\n",
       "Value      18\n",
       "Unit        0\n",
       "dtype: int64"
      ]
     },
     "execution_count": 4,
     "metadata": {},
     "output_type": "execute_result"
    }
   ],
   "source": [
    "df.isna().sum()"
   ]
  },
  {
   "cell_type": "code",
   "execution_count": 5,
   "id": "afd8bd4e-69db-4027-ba27-2c96e9c799db",
   "metadata": {},
   "outputs": [
    {
     "data": {
      "text/plain": [
       "Country     object\n",
       "Time        object\n",
       "Balance     object\n",
       "Product     object\n",
       "Value      float64\n",
       "Unit        object\n",
       "dtype: object"
      ]
     },
     "execution_count": 5,
     "metadata": {},
     "output_type": "execute_result"
    }
   ],
   "source": [
    "df.dtypes"
   ]
  },
  {
   "cell_type": "code",
   "execution_count": 6,
   "id": "18e01cf5-4708-4559-8926-9c1a4105fd6a",
   "metadata": {},
   "outputs": [
    {
     "data": {
      "text/html": [
       "<div>\n",
       "<style scoped>\n",
       "    .dataframe tbody tr th:only-of-type {\n",
       "        vertical-align: middle;\n",
       "    }\n",
       "\n",
       "    .dataframe tbody tr th {\n",
       "        vertical-align: top;\n",
       "    }\n",
       "\n",
       "    .dataframe thead th {\n",
       "        text-align: right;\n",
       "    }\n",
       "</style>\n",
       "<table border=\"1\" class=\"dataframe\">\n",
       "  <thead>\n",
       "    <tr style=\"text-align: right;\">\n",
       "      <th></th>\n",
       "      <th>Country</th>\n",
       "      <th>Time</th>\n",
       "      <th>Balance</th>\n",
       "      <th>Product</th>\n",
       "      <th>Value</th>\n",
       "      <th>Unit</th>\n",
       "    </tr>\n",
       "  </thead>\n",
       "  <tbody>\n",
       "    <tr>\n",
       "      <th>count</th>\n",
       "      <td>140988</td>\n",
       "      <td>140988</td>\n",
       "      <td>140988</td>\n",
       "      <td>140988</td>\n",
       "      <td>1.409700e+05</td>\n",
       "      <td>140988</td>\n",
       "    </tr>\n",
       "    <tr>\n",
       "      <th>unique</th>\n",
       "      <td>53</td>\n",
       "      <td>171</td>\n",
       "      <td>7</td>\n",
       "      <td>16</td>\n",
       "      <td>NaN</td>\n",
       "      <td>1</td>\n",
       "    </tr>\n",
       "    <tr>\n",
       "      <th>top</th>\n",
       "      <td>IEA Total</td>\n",
       "      <td>Mar-21</td>\n",
       "      <td>Net Electricity Production</td>\n",
       "      <td>Electricity</td>\n",
       "      <td>NaN</td>\n",
       "      <td>GWh</td>\n",
       "    </tr>\n",
       "    <tr>\n",
       "      <th>freq</th>\n",
       "      <td>3420</td>\n",
       "      <td>998</td>\n",
       "      <td>108526</td>\n",
       "      <td>40667</td>\n",
       "      <td>NaN</td>\n",
       "      <td>140988</td>\n",
       "    </tr>\n",
       "    <tr>\n",
       "      <th>mean</th>\n",
       "      <td>NaN</td>\n",
       "      <td>NaN</td>\n",
       "      <td>NaN</td>\n",
       "      <td>NaN</td>\n",
       "      <td>1.863672e+04</td>\n",
       "      <td>NaN</td>\n",
       "    </tr>\n",
       "    <tr>\n",
       "      <th>std</th>\n",
       "      <td>NaN</td>\n",
       "      <td>NaN</td>\n",
       "      <td>NaN</td>\n",
       "      <td>NaN</td>\n",
       "      <td>7.921900e+04</td>\n",
       "      <td>NaN</td>\n",
       "    </tr>\n",
       "    <tr>\n",
       "      <th>min</th>\n",
       "      <td>NaN</td>\n",
       "      <td>NaN</td>\n",
       "      <td>NaN</td>\n",
       "      <td>NaN</td>\n",
       "      <td>0.000000e+00</td>\n",
       "      <td>NaN</td>\n",
       "    </tr>\n",
       "    <tr>\n",
       "      <th>25%</th>\n",
       "      <td>NaN</td>\n",
       "      <td>NaN</td>\n",
       "      <td>NaN</td>\n",
       "      <td>NaN</td>\n",
       "      <td>6.173750e+01</td>\n",
       "      <td>NaN</td>\n",
       "    </tr>\n",
       "    <tr>\n",
       "      <th>50%</th>\n",
       "      <td>NaN</td>\n",
       "      <td>NaN</td>\n",
       "      <td>NaN</td>\n",
       "      <td>NaN</td>\n",
       "      <td>6.951661e+02</td>\n",
       "      <td>NaN</td>\n",
       "    </tr>\n",
       "    <tr>\n",
       "      <th>75%</th>\n",
       "      <td>NaN</td>\n",
       "      <td>NaN</td>\n",
       "      <td>NaN</td>\n",
       "      <td>NaN</td>\n",
       "      <td>4.347985e+03</td>\n",
       "      <td>NaN</td>\n",
       "    </tr>\n",
       "    <tr>\n",
       "      <th>max</th>\n",
       "      <td>NaN</td>\n",
       "      <td>NaN</td>\n",
       "      <td>NaN</td>\n",
       "      <td>NaN</td>\n",
       "      <td>1.004657e+06</td>\n",
       "      <td>NaN</td>\n",
       "    </tr>\n",
       "  </tbody>\n",
       "</table>\n",
       "</div>"
      ],
      "text/plain": [
       "          Country    Time                     Balance      Product  \\\n",
       "count      140988  140988                      140988       140988   \n",
       "unique         53     171                           7           16   \n",
       "top     IEA Total  Mar-21  Net Electricity Production  Electricity   \n",
       "freq         3420     998                      108526        40667   \n",
       "mean          NaN     NaN                         NaN          NaN   \n",
       "std           NaN     NaN                         NaN          NaN   \n",
       "min           NaN     NaN                         NaN          NaN   \n",
       "25%           NaN     NaN                         NaN          NaN   \n",
       "50%           NaN     NaN                         NaN          NaN   \n",
       "75%           NaN     NaN                         NaN          NaN   \n",
       "max           NaN     NaN                         NaN          NaN   \n",
       "\n",
       "               Value    Unit  \n",
       "count   1.409700e+05  140988  \n",
       "unique           NaN       1  \n",
       "top              NaN     GWh  \n",
       "freq             NaN  140988  \n",
       "mean    1.863672e+04     NaN  \n",
       "std     7.921900e+04     NaN  \n",
       "min     0.000000e+00     NaN  \n",
       "25%     6.173750e+01     NaN  \n",
       "50%     6.951661e+02     NaN  \n",
       "75%     4.347985e+03     NaN  \n",
       "max     1.004657e+06     NaN  "
      ]
     },
     "execution_count": 6,
     "metadata": {},
     "output_type": "execute_result"
    }
   ],
   "source": [
    "df.describe(include='all')"
   ]
  },
  {
   "cell_type": "code",
   "execution_count": 7,
   "id": "f7882b03-b5ac-4f11-b87a-2f20534e6bdc",
   "metadata": {},
   "outputs": [],
   "source": [
    "df['Value'].fillna(1.863672e+04,inplace=True)"
   ]
  },
  {
   "cell_type": "code",
   "execution_count": 8,
   "id": "485187ab-c83f-4168-bb19-03773067767c",
   "metadata": {},
   "outputs": [
    {
     "data": {
      "text/plain": [
       "Country    0\n",
       "Time       0\n",
       "Balance    0\n",
       "Product    0\n",
       "Value      0\n",
       "Unit       0\n",
       "dtype: int64"
      ]
     },
     "execution_count": 8,
     "metadata": {},
     "output_type": "execute_result"
    }
   ],
   "source": [
    "df.isna().sum()"
   ]
  },
  {
   "cell_type": "code",
   "execution_count": 9,
   "id": "3c65e998-2db5-4cd6-923d-570050430987",
   "metadata": {},
   "outputs": [
    {
     "data": {
      "text/plain": [
       "Country     object\n",
       "Time        object\n",
       "Balance     object\n",
       "Product     object\n",
       "Value      float64\n",
       "Unit        object\n",
       "dtype: object"
      ]
     },
     "execution_count": 9,
     "metadata": {},
     "output_type": "execute_result"
    }
   ],
   "source": [
    "df.dtypes"
   ]
  },
  {
   "cell_type": "code",
   "execution_count": 10,
   "id": "531a6802-0112-43c3-b6fe-17a19115f408",
   "metadata": {},
   "outputs": [],
   "source": [
    "# Splitng the Time column into month and date column\n",
    "df[['Month', 'Date']] = df['Time'].str.split('-', expand=True)"
   ]
  },
  {
   "cell_type": "code",
   "execution_count": 11,
   "id": "52532d90-e32c-4be2-a8c3-e1ef75664ddf",
   "metadata": {},
   "outputs": [],
   "source": [
    "df = df.drop(['Time'],axis=1)"
   ]
  },
  {
   "cell_type": "code",
   "execution_count": 12,
   "id": "739a5167",
   "metadata": {},
   "outputs": [],
   "source": [
    "df.drop(['Unit'],axis=1,inplace=True)"
   ]
  },
  {
   "cell_type": "code",
   "execution_count": 13,
   "id": "fbee3501-b306-4b2c-b60d-8b8b55cd502e",
   "metadata": {},
   "outputs": [
    {
     "data": {
      "text/html": [
       "<div>\n",
       "<style scoped>\n",
       "    .dataframe tbody tr th:only-of-type {\n",
       "        vertical-align: middle;\n",
       "    }\n",
       "\n",
       "    .dataframe tbody tr th {\n",
       "        vertical-align: top;\n",
       "    }\n",
       "\n",
       "    .dataframe thead th {\n",
       "        text-align: right;\n",
       "    }\n",
       "</style>\n",
       "<table border=\"1\" class=\"dataframe\">\n",
       "  <thead>\n",
       "    <tr style=\"text-align: right;\">\n",
       "      <th></th>\n",
       "      <th>Country</th>\n",
       "      <th>Balance</th>\n",
       "      <th>Product</th>\n",
       "      <th>Value</th>\n",
       "      <th>Month</th>\n",
       "      <th>Date</th>\n",
       "    </tr>\n",
       "  </thead>\n",
       "  <tbody>\n",
       "    <tr>\n",
       "      <th>0</th>\n",
       "      <td>Australia</td>\n",
       "      <td>Net Electricity Production</td>\n",
       "      <td>Electricity</td>\n",
       "      <td>23130.2764</td>\n",
       "      <td>Mar</td>\n",
       "      <td>24</td>\n",
       "    </tr>\n",
       "    <tr>\n",
       "      <th>1</th>\n",
       "      <td>Australia</td>\n",
       "      <td>Net Electricity Production</td>\n",
       "      <td>Total Combustible Fuels</td>\n",
       "      <td>14353.8714</td>\n",
       "      <td>Mar</td>\n",
       "      <td>24</td>\n",
       "    </tr>\n",
       "    <tr>\n",
       "      <th>2</th>\n",
       "      <td>Australia</td>\n",
       "      <td>Net Electricity Production</td>\n",
       "      <td>Coal, Peat and Manufactured Gases</td>\n",
       "      <td>10304.7825</td>\n",
       "      <td>Mar</td>\n",
       "      <td>24</td>\n",
       "    </tr>\n",
       "    <tr>\n",
       "      <th>3</th>\n",
       "      <td>Australia</td>\n",
       "      <td>Net Electricity Production</td>\n",
       "      <td>Oil and Petroleum Products</td>\n",
       "      <td>330.5351</td>\n",
       "      <td>Mar</td>\n",
       "      <td>24</td>\n",
       "    </tr>\n",
       "    <tr>\n",
       "      <th>4</th>\n",
       "      <td>Australia</td>\n",
       "      <td>Net Electricity Production</td>\n",
       "      <td>Natural Gas</td>\n",
       "      <td>3492.4621</td>\n",
       "      <td>Mar</td>\n",
       "      <td>24</td>\n",
       "    </tr>\n",
       "  </tbody>\n",
       "</table>\n",
       "</div>"
      ],
      "text/plain": [
       "     Country                     Balance                            Product  \\\n",
       "0  Australia  Net Electricity Production                        Electricity   \n",
       "1  Australia  Net Electricity Production            Total Combustible Fuels   \n",
       "2  Australia  Net Electricity Production  Coal, Peat and Manufactured Gases   \n",
       "3  Australia  Net Electricity Production         Oil and Petroleum Products   \n",
       "4  Australia  Net Electricity Production                        Natural Gas   \n",
       "\n",
       "        Value Month Date  \n",
       "0  23130.2764   Mar   24  \n",
       "1  14353.8714   Mar   24  \n",
       "2  10304.7825   Mar   24  \n",
       "3    330.5351   Mar   24  \n",
       "4   3492.4621   Mar   24  "
      ]
     },
     "execution_count": 13,
     "metadata": {},
     "output_type": "execute_result"
    }
   ],
   "source": [
    "df.head()"
   ]
  },
  {
   "cell_type": "code",
   "execution_count": 14,
   "id": "d57eb390-e9b4-4113-8e8d-95541bfe0f9c",
   "metadata": {
    "scrolled": true
   },
   "outputs": [
    {
     "name": "stdout",
     "output_type": "stream",
     "text": [
      "Country:\n",
      "['Australia' 'Austria' 'Belgium' 'Canada' 'Chile' 'Colombia' 'Costa Rica'\n",
      " 'Czech Republic' 'Denmark' 'Estonia' 'Finland' 'France' 'Germany'\n",
      " 'Greece' 'Hungary' 'Iceland' 'Ireland' 'Italy' 'Japan' 'Korea' 'Latvia'\n",
      " 'Lithuania' 'Luxembourg' 'Mexico' 'Netherlands' 'New Zealand' 'Norway'\n",
      " 'Poland' 'Portugal' 'Slovak Republic' 'Slovenia' 'Spain' 'Sweden'\n",
      " 'Switzerland' 'Republic of Turkiye' 'United Kingdom' 'United States'\n",
      " 'OECD Americas' 'OECD Asia Oceania' 'OECD Europe' 'OECD Total'\n",
      " 'IEA Total' 'Argentina' 'Brazil' 'Bulgaria' \"People's Republic of China\"\n",
      " 'Croatia' 'Cyprus' 'India' 'Malta' 'North Macedonia' 'Romania' 'Serbia']\n",
      "\n",
      "Balance:\n",
      "['Net Electricity Production' 'Used for pumped storage'\n",
      " 'Distribution Losses' 'Final Consumption (Calculated)' 'Total Imports'\n",
      " 'Total Exports' 'Remarks']\n",
      "\n",
      "Product:\n",
      "['Electricity' 'Total Combustible Fuels'\n",
      " 'Coal, Peat and Manufactured Gases' 'Oil and Petroleum Products'\n",
      " 'Natural Gas' 'Combustible Renewables' 'Hydro' 'Wind' 'Solar'\n",
      " 'Total Renewables (Hydro, Geo, Solar, Wind, Other)'\n",
      " 'Other Combustible Non-Renewables' 'Geothermal' 'Not Specified' 'Nuclear'\n",
      " 'Data is estimated for this month' 'Other Renewables']\n",
      "\n",
      "Value:\n",
      "[ 23130.2764  14353.8714  10304.7825 ...   6869.253   62000.733\n",
      " 877213.615 ]\n",
      "\n",
      "Month:\n",
      "['Mar' 'Feb' 'Jan' 'Dec' 'Nov' 'Oct' 'Sep' 'Aug' 'Jul' 'Jun' 'May' 'Apr']\n",
      "\n",
      "Date:\n",
      "['24' '23' '22' '21' '20' '19' '18' '17' '16' '15' '14' '13' '12' '11'\n",
      " '10']\n",
      "\n"
     ]
    }
   ],
   "source": [
    "for i in df.columns:\n",
    "    print(f'{i}:\\n{df[i].unique()}\\n')"
   ]
  },
  {
   "cell_type": "code",
   "execution_count": 15,
   "id": "e05230ef",
   "metadata": {},
   "outputs": [],
   "source": [
    "df = df[df['Country'] != 'Costa Rica']"
   ]
  },
  {
   "cell_type": "code",
   "execution_count": 16,
   "id": "6a5f6f76-b77f-4de7-b01c-487bb71de1dc",
   "metadata": {
    "scrolled": true
   },
   "outputs": [
    {
     "data": {
      "text/plain": [
       "OECD Total                    3420\n",
       "OECD Europe                   3420\n",
       "IEA Total                     3420\n",
       "France                        3408\n",
       "OECD Americas                 3381\n",
       "OECD Asia Oceania             3330\n",
       "United Kingdom                3318\n",
       "United States                 3297\n",
       "Germany                       3284\n",
       "Canada                        3258\n",
       "Republic of Turkiye           3254\n",
       "Portugal                      3182\n",
       "Spain                         3177\n",
       "Czech Republic                3174\n",
       "Belgium                       3174\n",
       "Italy                         3174\n",
       "Austria                       3174\n",
       "Slovak Republic               3147\n",
       "Mexico                        3144\n",
       "Poland                        3123\n",
       "Netherlands                   3116\n",
       "Slovenia                      3070\n",
       "Finland                       3051\n",
       "New Zealand                   3050\n",
       "Sweden                        3046\n",
       "Hungary                       3036\n",
       "Japan                         3029\n",
       "Switzerland                   3024\n",
       "Korea                         3015\n",
       "Norway                        3014\n",
       "Greece                        2939\n",
       "Luxembourg                    2916\n",
       "Ireland                       2904\n",
       "Lithuania                     2879\n",
       "Denmark                       2805\n",
       "Latvia                        2715\n",
       "Estonia                       2697\n",
       "Australia                     2657\n",
       "Chile                         2528\n",
       "Iceland                       2031\n",
       "Colombia                      2005\n",
       "People's Republic of China    1638\n",
       "Brazil                        1584\n",
       "India                         1584\n",
       "Romania                       1523\n",
       "Argentina                     1494\n",
       "Bulgaria                      1472\n",
       "Serbia                        1399\n",
       "Croatia                       1356\n",
       "North Macedonia               1350\n",
       "Cyprus                        1161\n",
       "Malta                         1141\n",
       "Name: Country, dtype: int64"
      ]
     },
     "execution_count": 16,
     "metadata": {},
     "output_type": "execute_result"
    }
   ],
   "source": [
    "#For country\n",
    "df['Country'].value_counts()"
   ]
  },
  {
   "cell_type": "code",
   "execution_count": 17,
   "id": "0ae20c9f",
   "metadata": {},
   "outputs": [],
   "source": [
    "# Deleting the unnecessary data of balance column\n",
    "df = df[df['Balance'] != 'Remarks']"
   ]
  },
  {
   "cell_type": "code",
   "execution_count": 18,
   "id": "22f35b11-68ef-4264-9561-ec56ef7027c7",
   "metadata": {},
   "outputs": [
    {
     "data": {
      "text/plain": [
       "Net Electricity Production        108175\n",
       "Distribution Losses                 6963\n",
       "Final Consumption (Calculated)      6963\n",
       "Total Imports                       6312\n",
       "Total Exports                       6301\n",
       "Used for pumped storage             5771\n",
       "Name: Balance, dtype: int64"
      ]
     },
     "execution_count": 18,
     "metadata": {},
     "output_type": "execute_result"
    }
   ],
   "source": [
    "#For country\n",
    "df['Balance'].value_counts()"
   ]
  },
  {
   "cell_type": "code",
   "execution_count": 19,
   "id": "f2edeb50-8e79-411d-9a65-4dda36861540",
   "metadata": {},
   "outputs": [],
   "source": [
    "# Saving cleaned data into csv file\n",
    "df.to_csv('Cleaned1.csv',index=False)"
   ]
  },
  {
   "cell_type": "code",
   "execution_count": 20,
   "id": "231da717",
   "metadata": {},
   "outputs": [],
   "source": [
    "df_copy = df"
   ]
  },
  {
   "cell_type": "code",
   "execution_count": 21,
   "id": "0d64c7c3",
   "metadata": {},
   "outputs": [],
   "source": [
    "from sklearn.preprocessing import LabelEncoder\n",
    "import pandas as pd\n",
    "import joblib\n",
    "from sklearn.model_selection import train_test_split\n",
    "from sklearn.preprocessing import StandardScaler\n",
    "from sklearn.ensemble import RandomForestRegressor,GradientBoostingRegressor\n",
    "from sklearn.linear_model import Lasso,Ridge,LinearRegression\n",
    "from sklearn.tree import DecisionTreeRegressor\n",
    "from sklearn.svm import SVR"
   ]
  },
  {
   "cell_type": "code",
   "execution_count": 22,
   "id": "3f1bd1e6",
   "metadata": {},
   "outputs": [],
   "source": [
    "country_encoder=LabelEncoder()\n",
    "balance_encoder=LabelEncoder()\n",
    "product_encoder=LabelEncoder()\n",
    "month_encoder=LabelEncoder()"
   ]
  },
  {
   "cell_type": "code",
   "execution_count": 23,
   "id": "3689a2cd",
   "metadata": {},
   "outputs": [],
   "source": [
    "from sklearn.metrics import mean_squared_error, r2_score"
   ]
  },
  {
   "cell_type": "code",
   "execution_count": 24,
   "id": "00716235-4f7e-4dbe-bf46-cd53f6858382",
   "metadata": {},
   "outputs": [],
   "source": [
    "def evaluate_model(model, x_train, y_train, x_test, y_test):\n",
    "    model.fit(x_train, y_train)\n",
    "    y_pred = model.predict(x_test)\n",
    "    mse = mean_squared_error(y_test, y_pred)\n",
    "    r2 = r2_score(y_test, y_pred)\n",
    "    return mse, r2"
   ]
  },
  {
   "cell_type": "code",
   "execution_count": 25,
   "id": "f315d15c",
   "metadata": {},
   "outputs": [
    {
     "data": {
      "text/html": [
       "<div>\n",
       "<style scoped>\n",
       "    .dataframe tbody tr th:only-of-type {\n",
       "        vertical-align: middle;\n",
       "    }\n",
       "\n",
       "    .dataframe tbody tr th {\n",
       "        vertical-align: top;\n",
       "    }\n",
       "\n",
       "    .dataframe thead th {\n",
       "        text-align: right;\n",
       "    }\n",
       "</style>\n",
       "<table border=\"1\" class=\"dataframe\">\n",
       "  <thead>\n",
       "    <tr style=\"text-align: right;\">\n",
       "      <th></th>\n",
       "      <th>Country</th>\n",
       "      <th>Balance</th>\n",
       "      <th>Product</th>\n",
       "      <th>Value</th>\n",
       "      <th>Month</th>\n",
       "      <th>Date</th>\n",
       "    </tr>\n",
       "  </thead>\n",
       "  <tbody>\n",
       "    <tr>\n",
       "      <th>0</th>\n",
       "      <td>Australia</td>\n",
       "      <td>Net Electricity Production</td>\n",
       "      <td>Electricity</td>\n",
       "      <td>23130.2764</td>\n",
       "      <td>Mar</td>\n",
       "      <td>24</td>\n",
       "    </tr>\n",
       "    <tr>\n",
       "      <th>1</th>\n",
       "      <td>Australia</td>\n",
       "      <td>Net Electricity Production</td>\n",
       "      <td>Total Combustible Fuels</td>\n",
       "      <td>14353.8714</td>\n",
       "      <td>Mar</td>\n",
       "      <td>24</td>\n",
       "    </tr>\n",
       "    <tr>\n",
       "      <th>2</th>\n",
       "      <td>Australia</td>\n",
       "      <td>Net Electricity Production</td>\n",
       "      <td>Coal, Peat and Manufactured Gases</td>\n",
       "      <td>10304.7825</td>\n",
       "      <td>Mar</td>\n",
       "      <td>24</td>\n",
       "    </tr>\n",
       "    <tr>\n",
       "      <th>3</th>\n",
       "      <td>Australia</td>\n",
       "      <td>Net Electricity Production</td>\n",
       "      <td>Oil and Petroleum Products</td>\n",
       "      <td>330.5351</td>\n",
       "      <td>Mar</td>\n",
       "      <td>24</td>\n",
       "    </tr>\n",
       "    <tr>\n",
       "      <th>4</th>\n",
       "      <td>Australia</td>\n",
       "      <td>Net Electricity Production</td>\n",
       "      <td>Natural Gas</td>\n",
       "      <td>3492.4621</td>\n",
       "      <td>Mar</td>\n",
       "      <td>24</td>\n",
       "    </tr>\n",
       "    <tr>\n",
       "      <th>...</th>\n",
       "      <td>...</td>\n",
       "      <td>...</td>\n",
       "      <td>...</td>\n",
       "      <td>...</td>\n",
       "      <td>...</td>\n",
       "      <td>...</td>\n",
       "    </tr>\n",
       "    <tr>\n",
       "      <th>140983</th>\n",
       "      <td>IEA Total</td>\n",
       "      <td>Total Imports</td>\n",
       "      <td>Electricity</td>\n",
       "      <td>34846.5580</td>\n",
       "      <td>Jan</td>\n",
       "      <td>10</td>\n",
       "    </tr>\n",
       "    <tr>\n",
       "      <th>140984</th>\n",
       "      <td>IEA Total</td>\n",
       "      <td>Total Exports</td>\n",
       "      <td>Electricity</td>\n",
       "      <td>32372.5830</td>\n",
       "      <td>Jan</td>\n",
       "      <td>10</td>\n",
       "    </tr>\n",
       "    <tr>\n",
       "      <th>140985</th>\n",
       "      <td>IEA Total</td>\n",
       "      <td>Used for pumped storage</td>\n",
       "      <td>Electricity</td>\n",
       "      <td>6869.2530</td>\n",
       "      <td>Jan</td>\n",
       "      <td>10</td>\n",
       "    </tr>\n",
       "    <tr>\n",
       "      <th>140986</th>\n",
       "      <td>IEA Total</td>\n",
       "      <td>Distribution Losses</td>\n",
       "      <td>Electricity</td>\n",
       "      <td>62000.7330</td>\n",
       "      <td>Jan</td>\n",
       "      <td>10</td>\n",
       "    </tr>\n",
       "    <tr>\n",
       "      <th>140987</th>\n",
       "      <td>IEA Total</td>\n",
       "      <td>Final Consumption (Calculated)</td>\n",
       "      <td>Electricity</td>\n",
       "      <td>877213.6150</td>\n",
       "      <td>Jan</td>\n",
       "      <td>10</td>\n",
       "    </tr>\n",
       "  </tbody>\n",
       "</table>\n",
       "<p>140485 rows × 6 columns</p>\n",
       "</div>"
      ],
      "text/plain": [
       "          Country                         Balance  \\\n",
       "0       Australia      Net Electricity Production   \n",
       "1       Australia      Net Electricity Production   \n",
       "2       Australia      Net Electricity Production   \n",
       "3       Australia      Net Electricity Production   \n",
       "4       Australia      Net Electricity Production   \n",
       "...           ...                             ...   \n",
       "140983  IEA Total                   Total Imports   \n",
       "140984  IEA Total                   Total Exports   \n",
       "140985  IEA Total         Used for pumped storage   \n",
       "140986  IEA Total             Distribution Losses   \n",
       "140987  IEA Total  Final Consumption (Calculated)   \n",
       "\n",
       "                                  Product        Value Month Date  \n",
       "0                             Electricity   23130.2764   Mar   24  \n",
       "1                 Total Combustible Fuels   14353.8714   Mar   24  \n",
       "2       Coal, Peat and Manufactured Gases   10304.7825   Mar   24  \n",
       "3              Oil and Petroleum Products     330.5351   Mar   24  \n",
       "4                             Natural Gas    3492.4621   Mar   24  \n",
       "...                                   ...          ...   ...  ...  \n",
       "140983                        Electricity   34846.5580   Jan   10  \n",
       "140984                        Electricity   32372.5830   Jan   10  \n",
       "140985                        Electricity    6869.2530   Jan   10  \n",
       "140986                        Electricity   62000.7330   Jan   10  \n",
       "140987                        Electricity  877213.6150   Jan   10  \n",
       "\n",
       "[140485 rows x 6 columns]"
      ]
     },
     "execution_count": 25,
     "metadata": {},
     "output_type": "execute_result"
    }
   ],
   "source": [
    "df_copy"
   ]
  },
  {
   "cell_type": "code",
   "execution_count": 26,
   "id": "0d622ef4",
   "metadata": {},
   "outputs": [],
   "source": [
    "df_copy['Country'] = country_encoder.fit_transform(df_copy['Country'])\n",
    "df_copy['Balance'] = balance_encoder.fit_transform(df_copy['Balance'])\n",
    "df_copy['Product'] = product_encoder.fit_transform(df_copy['Product'])\n",
    "df_copy['Month'] = month_encoder.fit_transform(df_copy['Month'])"
   ]
  },
  {
   "cell_type": "code",
   "execution_count": 27,
   "id": "20c5ba69",
   "metadata": {},
   "outputs": [
    {
     "data": {
      "text/plain": [
       "['month_encoder.pkl']"
      ]
     },
     "execution_count": 27,
     "metadata": {},
     "output_type": "execute_result"
    }
   ],
   "source": [
    "# Save the encoders for future use\n",
    "joblib.dump(country_encoder, 'country_encoder.pkl')\n",
    "joblib.dump(balance_encoder, 'balance_encoder.pkl')\n",
    "joblib.dump(product_encoder, 'product_encoder.pkl')\n",
    "joblib.dump(month_encoder, 'month_encoder.pkl')"
   ]
  },
  {
   "cell_type": "code",
   "execution_count": 28,
   "id": "b9f0a920",
   "metadata": {},
   "outputs": [],
   "source": [
    "# Model training for df2\n",
    "p = df_copy.drop(columns=['Value'], axis=1)\n",
    "q = df_copy['Value']\n",
    "x_train, x_test, y_train, y_test = train_test_split(p, q, test_size=0.3, random_state=3)\n",
    "\n",
    "# Standard Scaler Transform\n",
    "from sklearn.preprocessing import StandardScaler\n",
    "sc=StandardScaler()\n",
    "p_train = sc.fit_transform(x_train)\n",
    "p_test = sc.transform(x_test)\n"
   ]
  },
  {
   "cell_type": "code",
   "execution_count": 29,
   "id": "b97359c8",
   "metadata": {},
   "outputs": [
    {
     "name": "stdout",
     "output_type": "stream",
     "text": [
      "Random Forest - Mean Squared Error: 13437477.614109444\n",
      "Random Forest - R^2 Score: 0.9978815387998397\n",
      "\n",
      "Gradient Boosting - Mean Squared Error: 3405004980.6884336\n",
      "Gradient Boosting - R^2 Score: 0.46319010568122077\n",
      "\n",
      "Linear Regression - Mean Squared Error: 6235824469.190934\n",
      "Linear Regression - R^2 Score: 0.016902385376233564\n",
      "\n",
      "Lasso - Mean Squared Error: 6235824304.688135\n",
      "Lasso - R^2 Score: 0.01690241131062442\n",
      "\n",
      "Ridge - Mean Squared Error: 6235824474.928126\n",
      "Ridge - R^2 Score: 0.016902384471746856\n",
      "\n",
      "decissiontree Regression - Mean Squared Error: 18282051.521697648\n",
      "decissiontree Regression - R^2 Score: 0.9971177762731763\n",
      "\n"
     ]
    }
   ],
   "source": [
    "# Train a Random Forest Regressor model\n",
    "rf_model = RandomForestRegressor(random_state=2)\n",
    "rf_mse, rf_r2 = evaluate_model(rf_model, x_train, y_train, x_test, y_test)\n",
    "print(f'Random Forest - Mean Squared Error: {rf_mse}')\n",
    "print(f'Random Forest - R^2 Score: {rf_r2}\\n')\n",
    "\n",
    "# Try a Gradient Boosting Regressor model\n",
    "gb_model = GradientBoostingRegressor(random_state=2)\n",
    "gb_mse, gb_r2 = evaluate_model(gb_model, x_train, y_train, x_test, y_test)\n",
    "print(f'Gradient Boosting - Mean Squared Error: {gb_mse}')\n",
    "print(f'Gradient Boosting - R^2 Score: {gb_r2}\\n')\n",
    "\n",
    "# Try a Linear Regression model\n",
    "lr_model = LinearRegression()\n",
    "lr_mse, lr_r2 = evaluate_model(lr_model, x_train, y_train, x_test, y_test)\n",
    "print(f'Linear Regression - Mean Squared Error: {lr_mse}')\n",
    "print(f'Linear Regression - R^2 Score: {lr_r2}\\n')\n",
    "\n",
    "ls_model = Lasso()\n",
    "ls_mse, ls_r2 = evaluate_model(ls_model, x_train, y_train, x_test, y_test)\n",
    "print(f'Lasso - Mean Squared Error: {ls_mse}')\n",
    "print(f'Lasso - R^2 Score: {ls_r2}\\n')\n",
    "\n",
    "rd_model = Ridge()\n",
    "rd_mse, rd_r2 = evaluate_model(rd_model, x_train, y_train, x_test, y_test)\n",
    "print(f'Ridge - Mean Squared Error: {rd_mse}')\n",
    "print(f'Ridge - R^2 Score: {rd_r2}\\n')\n",
    "\n",
    "ds_model = DecisionTreeRegressor()\n",
    "ds_mse, ds_r2 = evaluate_model(ds_model, x_train, y_train, x_test, y_test)\n",
    "print(f'decissiontree Regression - Mean Squared Error: {ds_mse}')\n",
    "print(f'decissiontree Regression - R^2 Score: {ds_r2}\\n')\n"
   ]
  },
  {
   "cell_type": "code",
   "execution_count": 30,
   "id": "5f25a82e",
   "metadata": {},
   "outputs": [
    {
     "data": {
      "text/plain": [
       "['model.pkl']"
      ]
     },
     "execution_count": 30,
     "metadata": {},
     "output_type": "execute_result"
    }
   ],
   "source": [
    "model1 = RandomForestRegressor(n_estimators=100)\n",
    "model1.fit(x_train, y_train)\n",
    "joblib.dump(model1, 'model.pkl')"
   ]
  },
  {
   "cell_type": "code",
   "execution_count": 31,
   "id": "305e725a",
   "metadata": {},
   "outputs": [
    {
     "name": "stdout",
     "output_type": "stream",
     "text": [
      "The predicted price is: 1896.1778420000023\n"
     ]
    },
    {
     "name": "stderr",
     "output_type": "stream",
     "text": [
      "C:\\Users\\HP\\AppData\\Roaming\\Python\\Python311\\site-packages\\sklearn\\base.py:493: UserWarning: X does not have valid feature names, but RandomForestRegressor was fitted with feature names\n",
      "  warnings.warn(\n"
     ]
    }
   ],
   "source": [
    "# Prediction Example\n",
    "# Example input\n",
    "input_data = [['Austria', 'Total Imports', 'Electricity', 'Jan', 25]]\n",
    "\n",
    "# Load the encoders\n",
    "country_encoder = joblib.load('country_encoder.pkl')\n",
    "balance_encoder = joblib.load('balance_encoder.pkl')\n",
    "product_encoder = joblib.load('product_encoder.pkl')\n",
    "month_encoder = joblib.load('month_encoder.pkl')\n",
    "\n",
    "# Create a DataFrame for the input data\n",
    "input_df = pd.DataFrame(input_data, columns=['Country', 'Balance', 'Product', 'Month', 'Date'])\n",
    "\n",
    "# Encode the input data\n",
    "input_df['Country'] = country_encoder.transform(input_df['Country'])\n",
    "input_df['Balance'] = balance_encoder.transform(input_df['Balance'])\n",
    "input_df['Product'] = product_encoder.transform(input_df['Product'])\n",
    "input_df['Month'] = month_encoder.transform(input_df['Month'])\n",
    "\n",
    "# Extract the features\n",
    "input_features = input_df[['Country', 'Balance', 'Product', 'Month', 'Date']].values\n",
    "\n",
    "# Load the trained model\n",
    "model = joblib.load('model.pkl')  # Use model_2.pkl if appropriate\n",
    "\n",
    "# Make a prediction\n",
    "predicted_price = model.predict(input_features)\n",
    "print(f\"The predicted price is: {predicted_price[0]}\")"
   ]
  }
 ],
 "metadata": {
  "kernelspec": {
   "display_name": "Python 3 (ipykernel)",
   "language": "python",
   "name": "python3"
  },
  "language_info": {
   "codemirror_mode": {
    "name": "ipython",
    "version": 3
   },
   "file_extension": ".py",
   "mimetype": "text/x-python",
   "name": "python",
   "nbconvert_exporter": "python",
   "pygments_lexer": "ipython3",
   "version": "3.11.4"
  }
 },
 "nbformat": 4,
 "nbformat_minor": 5
}
